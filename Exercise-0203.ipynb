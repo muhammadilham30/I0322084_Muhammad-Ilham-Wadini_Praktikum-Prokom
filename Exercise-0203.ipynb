{
 "cells": [
  {
   "cell_type": "code",
   "execution_count": 5,
   "metadata": {},
   "outputs": [
    {
     "name": "stdout",
     "output_type": "stream",
     "text": [
      "m.ilham wadini\n",
      "i0322084\n",
      "c\n"
     ]
    }
   ],
   "source": [
    "print(input(\"Nama: \"))\n",
    "print(input(\"NIM: \"))\n",
    "print(input(\"Kelas: \"))"
   ]
  },
  {
   "attachments": {},
   "cell_type": "markdown",
   "metadata": {},
   "source": [
    "## 1."
   ]
  },
  {
   "attachments": {},
   "cell_type": "markdown",
   "metadata": {},
   "source": [
    "buatlah program sederhana untuk:\n",
    "* **A** mencari massa jika diketahui nilai energi potensial, percepatan gravitasi, dan ketinggian benda! beserta rumus nya!\n",
    "* **B** mencari gaya apung jika diketahui massa jenis, tinggi, panjang, dan lebar benda serta percepatan gravitasi dan contohnya! beserta rumus nya!\n",
    "* **C** Tulis program Python untuk menghitung luas dari segi lima sama sisi!\n",
    "\n",
    "> *note* : rumus, contoh, dan nilai dari tiap variabel ditentukan oleh kalian sendiri dan gunakan satuan baku (SI) untuk menghitung nilai dari tiap variabel"
   ]
  },
  {
   "cell_type": "code",
   "execution_count": 6,
   "metadata": {},
   "outputs": [
    {
     "name": "stdout",
     "output_type": "stream",
     "text": [
      "massa benda =  4.081632653061225\n"
     ]
    }
   ],
   "source": [
    "#Jawab A\n",
    "\n",
    "def mencari_massa():\n",
    "    Energi_Potensial = float(input(\"masukkan energi potensial = \"))\n",
    "    Percepatan_gravitasi = float(input(\"masukkan percepatan gravitasi = \"))\n",
    "    Ketinggian_benda = float(input(\"masukkan ketinggian benda = \"))\n",
    "    Massa_benda = Energi_Potensial / (Percepatan_gravitasi * Ketinggian_benda)\n",
    "    print(\"massa benda = \", Massa_benda)\n",
    "\n",
    "mencari_massa()"
   ]
  },
  {
   "cell_type": "code",
   "execution_count": null,
   "metadata": {},
   "outputs": [],
   "source": [
    "#Jawab B\n",
    "\n",
    "def Volume():\n",
    "    Panjang = float(input(\"masukkan panjang benda = \"))\n",
    "    lebar = float(input(\"masukkan lebar benda = \"))\n",
    "    tinggi = float(input(\"masukkan tinggi benda = \"))\n",
    "    Volume = Panjang * lebar * tinggi\n",
    "    print(\"Volume benda = \",Volume)\n",
    "\n",
    "def Gaya_apung():\n",
    "    massa_jenis = float(input(\"masukkan massa jenis = \"))\n",
    "    pecepatan_gravitasi = float(input(\"masukkan perceepatan gravitasi\"))\n",
    "    volume_benda = float(input(\"masukkan volume benda\"))\n",
    "    Gaya_apung = -(massa_jenis * pecepatan_gravitasi * volume_benda)\n",
    "    print(\"gaya apung = \",Gaya_apung)\n",
    "\n",
    "Volume()\n",
    "Gaya_apung()"
   ]
  },
  {
   "cell_type": "code",
   "execution_count": 17,
   "metadata": {},
   "outputs": [
    {
     "name": "stdout",
     "output_type": "stream",
     "text": [
      "luas segilima =  6.666666666666667\n"
     ]
    }
   ],
   "source": [
    "#jawab C\n",
    "def luas_segilima():\n",
    "    sisi = float(input(\"masukkan panjang sisi = \"))\n",
    "    tan_36 = float(input(\"masukkan nilai tangen = \"))\n",
    "    luas_segilima = (5*sisi**2)/(4 * tan_36)\n",
    "    print(\"luas segilima = \",luas_segilima)\n",
    "\n",
    "luas_segilima()"
   ]
  },
  {
   "attachments": {},
   "cell_type": "markdown",
   "metadata": {},
   "source": [
    "## 2."
   ]
  },
  {
   "attachments": {},
   "cell_type": "markdown",
   "metadata": {},
   "source": [
    "Taman bermain ANCOL memiliki berbagai wahana, salah satunya adalah bianglala. Harga tiket yang dijual berbeda tergantung dengan kategori nya. Harga tiket bagi orang dewasa atau yang berumur lebih dari 17 tahun adalah Rp 110.000 , harga tiket untuk anak-anak usia 6-16 tahun adalah Rp. 75.000 , sedangkan untuk usia dibawahnya tidak dikenakan biaya. Pada wahana bianglala sedang ada \"Promo RAMADHAN\" sebesar 20% bagi pembelian tiket lebih dari 2 pcs.\n",
    "\n",
    "Keluarga Anya Forger ingin menaiki wahana bianglala tersebut, Anya (usia 18 tahun) pergi bersama ayah dan ibunya beserta dua adiknya, Harry (usia 8 tahun) dan Taylor (usia 4 tahun). \n",
    "\n",
    "> Buatlah program sederhana untuk menghitung harga total dari pembelian tiket  oleh keluarga Anya dan harga tiket setelah mendapatkan diskon"
   ]
  },
  {
   "cell_type": "code",
   "execution_count": 7,
   "metadata": {},
   "outputs": [
    {
     "name": "stdout",
     "output_type": "stream",
     "text": [
      "Total harga =  405000\n",
      "Total harga keseluruhan =  81000.0\n"
     ]
    }
   ],
   "source": [
    "#Jawab\n",
    "def Harga_Total():\n",
    "    Dewasa = int(input(\"Masukkan harga tiket orang dewasa = \"))\n",
    "    Anak_anak = int(input(\"masukkan harga tiket anak-anak = \"))\n",
    "    Total_harga = (3*Dewasa) + Anak_anak + 0\n",
    "    Total_keseluruhan = Total_harga * 20/100\n",
    "    print(\"Total harga = \",Total_harga,)\n",
    "    print(\"Total harga keseluruhan = \",Total_keseluruhan)\n",
    "\n",
    "Harga_Total()"
   ]
  },
  {
   "attachments": {},
   "cell_type": "markdown",
   "metadata": {},
   "source": [
    "## 3. "
   ]
  },
  {
   "attachments": {},
   "cell_type": "markdown",
   "metadata": {},
   "source": [
    "diberikan list aslab sebagai berikut:\n",
    "```python\n",
    "list_aslab = [\n",
    "    {\"nama\": \"Berlian Safri Prakoso\", \"nim\": \"I0320017\", \"kontak\": \"0858XXXXXXXX\"},\n",
    "    {\"nama\": \"Halidya Siti Hanifah\", \"nim\": \"I0320044\", \"kontak\": \"0878XXXXXXXX\"},\n",
    "    {\"nama\": \"Nurki Putra Mahardika\", \"nim\": \"I0320076\", \"kontak\": \"0877XXXXXXXX\"},\n",
    "    {\"nama\": \"Aji Manarul Aziz\", \"nim\": \"I0320119\", \"kontak\": \"0812XXXXXXXX\"},\n",
    "    {\"nama\": \"Alica Ayu Fitriani\", \"nim\": \"I0320121\", \"kontak\": \"0896XXXXXXXX\"},\n",
    "    {\"nama\": \"Dendy Halim Kusuma\", \"nim\": \"I0320125\", \"kontak\": \"0822XXXXXXXX\"}\n",
    "]\n",
    "```\n",
    "* **A** Tuliskan kode untuk mengakses informasi tentang \"nama\" dari semua aslab mulai dari index 1 sampai 5\n",
    "* **B** Tambahkan informasi berikut pada data aslab dan tampilkan hasilnya:\n",
    "```python\n",
    "    surel = [\"berlian@student.uns.ac.id\",\n",
    "          \"halidya@student.uns.ac.id\",\n",
    "          \"nurki@student.uns.ac.id\",\n",
    "          \"manarul@student.uns.ac.id\",\n",
    "          \"alica@student.uns.ac.id\",\n",
    "          \"dendy@student.uns.ac.id\"]\n",
    "```\n",
    "* **C** Hapus nilai pada kunci \"kontak\" pada list aslab dan tampilkan hasilnya\n",
    "> *note: kalian hanya boleh menggunakan key-value pair yang disebutkan di dalam teks, tanpa menggunakan informasi tambahan yang diambil pada list yang ada*"
   ]
  },
  {
   "cell_type": "code",
   "execution_count": 17,
   "metadata": {},
   "outputs": [
    {
     "name": "stdout",
     "output_type": "stream",
     "text": [
      "0 {'nama': 'Berlian Safri Prakoso', 'nim': 'I0320017', 'kontak': '0858XXXXXXXX'}\n",
      "1 {'nama': 'Halidya Siti Hanifah', 'nim': 'I0320044', 'kontak': '0878XXXXXXXX'}\n",
      "2 {'nama': 'Nurki Putra Mahardika', 'nim': 'I0320076', 'kontak': '0877XXXXXXXX'}\n",
      "3 {'nama': 'Aji Manarul Aziz', 'nim': 'I0320119', 'kontak': '0812XXXXXXXX'}\n",
      "4 {'nama': 'Alica Ayu Fitriani', 'nim': 'I0320121', 'kontak': '0896XXXXXXXX'}\n",
      "5 {'nama': 'Dendy Halim Kusuma', 'nim': 'I0320125', 'kontak': '0822XXXXXXXX'}\n",
      "0 {'nama': 'Berlian Safri Prakoso', 'nim': 'I0320017', 'kontak': '0858XXXXXXXX'} berlian@student.uns.ac.id\n",
      "1 {'nama': 'Halidya Siti Hanifah', 'nim': 'I0320044', 'kontak': '0878XXXXXXXX'} halidya@student.uns.ac.id\n",
      "2 {'nama': 'Nurki Putra Mahardika', 'nim': 'I0320076', 'kontak': '0877XXXXXXXX'} nurki@student.uns.ac.id\n",
      "3 {'nama': 'Aji Manarul Aziz', 'nim': 'I0320119', 'kontak': '0812XXXXXXXX'} manarul@student.uns.ac.id\n",
      "4 {'nama': 'Alica Ayu Fitriani', 'nim': 'I0320121', 'kontak': '0896XXXXXXXX'} alica@student.uns.ac.id\n",
      "5 {'nama': 'Dendy Halim Kusuma', 'nim': 'I0320125', 'kontak': '0822XXXXXXXX'} dendi@student.uns.ac.id\n",
      "{'nama': 'Berlian Safri Prakoso', 'nim': 'I0320017'}\n",
      "{'nama': 'Halidya Siti Hanifah', 'nim': 'I0320044'}\n",
      "{'nama': 'Nurki Putra Mahardika', 'nim': 'I0320076'}\n",
      "{'nama': 'Aji Manarul Aziz', 'nim': 'I0320119'}\n",
      "{'nama': 'Alica Ayu Fitriani', 'nim': 'I0320121'}\n",
      "{'nama': 'Dendy Halim Kusuma', 'nim': 'I0320125'}\n"
     ]
    }
   ],
   "source": [
    "# Jawab A\n",
    "\n",
    "list_aslab =[\n",
    "    {\"nama\" : \"Berlian Safri Prakoso\", \"nim\": \"I0320017\", \"kontak\": \"0858XXXXXXXX\"},\n",
    "    {\"nama\" : \"Halidya Siti Hanifah\", \"nim\": \"I0320044\", \"kontak\": \"0878XXXXXXXX\"},\n",
    "    {\"nama\" : \"Nurki Putra Mahardika\", \"nim\": \"I0320076\", \"kontak\": \"0877XXXXXXXX\"},\n",
    "    {\"nama\" : \"Aji Manarul Aziz\", \"nim\": \"I0320119\", \"kontak\": \"0812XXXXXXXX\"},\n",
    "    {\"nama\" : \"Alica Ayu Fitriani\", \"nim\": \"I0320121\", \"kontak\": \"0896XXXXXXXX\"},\n",
    "    {\"nama\" : \"Dendy Halim Kusuma\", \"nim\": \"I0320125\", \"kontak\": \"0822XXXXXXXX\"}]\n",
    "\n",
    "def tampil_data ():\n",
    "    for i in range (0,len(list_aslab)) :\n",
    "        print(i,list_aslab[i])\n",
    "tampil_data()\n",
    "#Jawab B\n",
    "surel = [\"berlian@student.uns.ac.id\",\n",
    "         \"halidya@student.uns.ac.id\",\n",
    "         \"nurki@student.uns.ac.id\",\n",
    "         \"manarul@student.uns.ac.id\",\n",
    "         \"alica@student.uns.ac.id\",\n",
    "         \"dendi@student.uns.ac.id\",]\n",
    "def tambahkan_data():\n",
    "     for i in range (0,len(list_aslab)) :\n",
    "         print(i,list_aslab[i],surel[i])\n",
    "tambahkan_data()\n",
    "#Jawab C\n",
    "for aslab in list_aslab :\n",
    "    del aslab[\"kontak\"]\n",
    "    print(aslab)\n",
    "\n"
   ]
  }
 ],
 "metadata": {
  "kernelspec": {
   "display_name": "Python 3",
   "language": "python",
   "name": "python3"
  },
  "language_info": {
   "codemirror_mode": {
    "name": "ipython",
    "version": 3
   },
   "file_extension": ".py",
   "mimetype": "text/x-python",
   "name": "python",
   "nbconvert_exporter": "python",
   "pygments_lexer": "ipython3",
   "version": "3.11.2"
  },
  "orig_nbformat": 4,
  "vscode": {
   "interpreter": {
    "hash": "5addf786bcd861d1ce5006f23111f8cbb206731e5b61b0a5632ba9e0252558a8"
   }
  }
 },
 "nbformat": 4,
 "nbformat_minor": 2
}
