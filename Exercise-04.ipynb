{
 "cells": [
  {
   "cell_type": "code",
   "execution_count": 3,
   "metadata": {},
   "outputs": [
    {
     "name": "stdout",
     "output_type": "stream",
     "text": [
      "Muhammad Iham Wadini\n",
      "I0322084\n",
      "C\n"
     ]
    }
   ],
   "source": [
    "print(input(\"Nama: \"))\n",
    "print(input(\"NIM: \"))\n",
    "print(input(\"Kelas: \"))"
   ]
  },
  {
   "attachments": {},
   "cell_type": "markdown",
   "metadata": {},
   "source": [
    "## 1."
   ]
  },
  {
   "attachments": {},
   "cell_type": "markdown",
   "metadata": {},
   "source": [
    "Buatlah program yang menampilkan tarif pajak yang harus dibayarkan oleh user dengan input yaitu nama user dan pendapatan dari user.<br>\n",
    "Dengan ketentuan sebagai berikut:\n",
    "* Jika pendapatan kurang dari atau sama dengan 10 juta, maka tarif pajak adalah 2,5%\n",
    "* Jika pendapatan kurang dari atau sama dengan 20 juta, maka tarif pajak adalah 5%\n",
    "* Jika pendapatan kurang dari atau sama dengan 50 juta, maka tarif pajak adalah 10%.\n",
    "* Jika pendapatan lebih dari 50 juta, maka tarif pajak adalah 12,5%.\n",
    "> *note: Kerjakan soal ini dengan percabangan*"
   ]
  },
  {
   "cell_type": "code",
   "execution_count": 2,
   "metadata": {},
   "outputs": [
    {
     "name": "stdout",
     "output_type": "stream",
     "text": [
      "========Pendapatan Anda========\n",
      "Nama : Muhammad Ilham Wadini, Pendapatan : Rp 100000000, Nilai Tarif Pajak anda : 12500000.0\n"
     ]
    }
   ],
   "source": [
    "# Kerjakan soal no 1 di sini\n",
    "Nama = input('Masukkan nama anda : ')\n",
    "Pendapatan_Anda = int(input(\"Masukkan nominal pendapatan anda : \"))\n",
    "print(\"========Pendapatan Anda========\")\n",
    "\n",
    "if Pendapatan_Anda <= 10000000 :\n",
    "    Tarif_Pajak = Pendapatan_Anda * (2.5/100)\n",
    "    print(f\"Nama : {Nama}, Pendapatan : Rp {Pendapatan_Anda}, Nilai Tarif Pajak anda : {Tarif_Pajak}\")\n",
    "elif Pendapatan_Anda <= 20000000 :\n",
    "    Tarif_Pajak = Pendapatan_Anda * (5/100)\n",
    "    print(f\"Nama : {Nama}, Pendapatan : Rp {Pendapatan_Anda}, Nilai Tarif Pajak anda : {Tarif_Pajak}\")\n",
    "elif Pendapatan_Anda <= 50000000 :\n",
    "    Tarif_Pajak = Pendapatan_Anda * (10/100)\n",
    "    print(f\"Nama : {Nama}, Pendapatan : Rp {Pendapatan_Anda}, Nilai Tarif Pajak anda : {Tarif_Pajak}\")\n",
    "else :\n",
    "    Tarif_Pajak = Pendapatan_Anda * (12.5/100)\n",
    "    print(f\"Nama : {Nama}, Pendapatan : Rp {Pendapatan_Anda}, Nilai Tarif Pajak anda : {Tarif_Pajak}\")  "
   ]
  },
  {
   "attachments": {},
   "cell_type": "markdown",
   "metadata": {},
   "source": [
    "## 2."
   ]
  },
  {
   "attachments": {},
   "cell_type": "markdown",
   "metadata": {},
   "source": [
    "Buatlah program yang menampilkan akan melakukan validasi apakah mahasiswa tersebut berasal dari TI UNS berdasarkan NIM yang diinput oleh user:\n",
    "<br>Dengan ketentuan sebagai berikut:\n",
    "* NIM mahasiswa TI harus dimulai dengan \"I03\" dengan total panjang 8 karakter (I0320078 adalah contoh NIM mahasiswa TI UNS)\n",
    "* Program akan menampilkan pesan \"NIM mahasiswa TI UNS\" jika NIM yang dimasukkan sesuai dengan format yang dijelaskan di atas, dan akan menampilkan pesan \"NIM Anda tidak valid\" jika tidak sesuai.\n",
    "> *note: Kerjakan soal ini dengan percabangan*"
   ]
  },
  {
   "cell_type": "code",
   "execution_count": 15,
   "metadata": {},
   "outputs": [
    {
     "name": "stdout",
     "output_type": "stream",
     "text": [
      "Nim Mahasiswa TI UNS\n"
     ]
    }
   ],
   "source": [
    "# Kerjakan soal no 2 di sini\n",
    "Nim = int(input(\"Masukkan Nim Anda : \"))\n",
    "\n",
    "if Nim >=300000 & Nim <= 399999 :\n",
    "    print(\"Nim Mahasiswa TI UNS\")\n",
    "else :\n",
    "    (\"Nim Anda Tidak Valid\")\n"
   ]
  }
 ],
 "metadata": {
  "kernelspec": {
   "display_name": "Python 3",
   "language": "python",
   "name": "python3"
  },
  "language_info": {
   "codemirror_mode": {
    "name": "ipython",
    "version": 3
   },
   "file_extension": ".py",
   "mimetype": "text/x-python",
   "name": "python",
   "nbconvert_exporter": "python",
   "pygments_lexer": "ipython3",
   "version": "3.11.2"
  },
  "orig_nbformat": 4
 },
 "nbformat": 4,
 "nbformat_minor": 2
}
