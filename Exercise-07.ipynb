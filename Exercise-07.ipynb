{
 "cells": [
  {
   "cell_type": "code",
   "execution_count": 3,
   "metadata": {},
   "outputs": [
    {
     "name": "stdout",
     "output_type": "stream",
     "text": [
      "[[56, 78], [57, 86]]\n"
     ]
    }
   ],
   "source": [
    "#Buatlah sebuah fungsi untuk membuat matrix berdasarkan input dari user\n",
    "\n",
    "\n",
    "    #Tulis kode kamu disini\n",
    "import numpy as np\n",
    "def creat_matrix(baris,kolom):\n",
    "    global matrix\n",
    "    matrix = [[0 for z in range(kolom)]for x in range (baris)]\n",
    "    for x in range(baris):\n",
    "        for z in range(kolom):\n",
    "            matrix[x][z] = int(input(f\"masukkan angka untuk matrix [{x+1}][{z+1}]\"))\n",
    "    return matrix\n",
    "print(creat_matrix(baris = int(input(\"masukkan jumlah baris:\\t\")),\n",
    "                    kolom = int(input(\"masukkan jumlah kolom :\\t\"))))"
   ]
  },
  {
   "cell_type": "code",
   "execution_count": 6,
   "metadata": {},
   "outputs": [
    {
     "name": "stdout",
     "output_type": "stream",
     "text": [
      "[[6, 4], [7, 5]]\n"
     ]
    },
    {
     "data": {
      "text/plain": [
       "2"
      ]
     },
     "execution_count": 6,
     "metadata": {},
     "output_type": "execute_result"
    }
   ],
   "source": [
    "#Buatlah sebuah fungsi untuk mencari determinan matrix berdasarkan input matrix dari user\n",
    "\n",
    "\n",
    "    #Tulis kode kamu disini\n",
    "baris = int(input('Masukkan Jumlah Baris:\\t'))\n",
    "kolom = int(input('Masukkan Jumlah Kolom:\\t'))\n",
    "creat_matrix(baris, kolom)\n",
    "def determinant(matrix):\n",
    "    x = len(matrix)\n",
    "    if x == 1 :\n",
    "        return matrix [0][0]\n",
    "    else :\n",
    "        det = 0\n",
    "        for z in range (x) :\n",
    "            y = [row[:z]+row[z+1:] for row in matrix[1:]]\n",
    "            det += (-1)**z * matrix[0][z] * determinant(y)\n",
    "    return det\n",
    "print(matrix)\n",
    "determinant(matrix)"
   ]
  },
  {
   "cell_type": "code",
   "execution_count": 7,
   "metadata": {},
   "outputs": [
    {
     "name": "stdout",
     "output_type": "stream",
     "text": [
      "matrix pertama = [[6, 8], [2, 6]]\n",
      "matrix kedua = [[8, 5], [2, 6]]\n",
      "[64, 78]\n",
      "[28, 46]\n"
     ]
    }
   ],
   "source": [
    "#Buatlah fungsi untuk mengakalikan dua buah matrix berdasarkan input user menggunakan nested loop\n",
    "\n",
    "    #Tulis kode kamu disini\n",
    "def create_matrix1(barispertama, kolompertama):\n",
    "    global matrix1\n",
    "    matrix1 = [[0 for y in range(kolompertama)]for x in range(barispertama)]\n",
    "    for x in range(barispertama):\n",
    "        for y in range(kolompertama):\n",
    "            matrix1[x][y] = int(input(f\"Masukkan elemen untuk [{x+1}][{y+1}] : \"))\n",
    "    return matrix1\n",
    " \n",
    "barispertama = int(input('Masukkan Jumlah Baris Matrixpertama:\\t'))\n",
    "kolompertama = int(input('Masukkan Jumlah Kolom Matrixpertama:\\t'))\n",
    "create_matrix1(barispertama, kolompertama)\n",
    "\n",
    "def create_matrix2(bariskedua, kolomkedua):\n",
    "    global matrix2\n",
    "    matrix2 = [[0 for y in range(kolomkedua)]for x in range(bariskedua)]\n",
    "    for x in range(bariskedua):\n",
    "        for y in range(kolomkedua):\n",
    "            matrix2[x][y] = int(input(f\"Masukkan elemen untuk [{x+1}][{y+1}] : \"))\n",
    "    return matrix2\n",
    "\n",
    "\n",
    "bariskedua = int(input('Masukkan Jumlah Baris Matrixkedua:\\t'))\n",
    "kolomkedua = int(input('Masukkan Jumlah Kolom Matrixkedua:\\t'))\n",
    "create_matrix2(bariskedua, kolomkedua)\n",
    "\n",
    "def multiply_matrix(matrix1, matrix2):\n",
    "    a = len(matrix1)\n",
    "    b = len(matrix2[0])\n",
    "    c = len(matrix2)\n",
    "    \n",
    "    result = [[0 for j in range(b)] for i in range(a)]\n",
    "    for x in range(a):\n",
    "        for y in range(b):\n",
    "            for d in range(c):\n",
    "                result[x][y] += matrix1[x][d] * matrix2[d][y]\n",
    "    \n",
    "    for e in result:\n",
    "        print(e)\n",
    "\n",
    "print('matrix pertama =',matrix1)\n",
    "print('matrix kedua =',matrix2)\n",
    "multiply_matrix(matrix1, matrix2)"
   ]
  }
 ],
 "metadata": {
  "kernelspec": {
   "display_name": "Python 3",
   "language": "python",
   "name": "python3"
  },
  "language_info": {
   "codemirror_mode": {
    "name": "ipython",
    "version": 3
   },
   "file_extension": ".py",
   "mimetype": "text/x-python",
   "name": "python",
   "nbconvert_exporter": "python",
   "pygments_lexer": "ipython3",
   "version": "3.11.2"
  },
  "orig_nbformat": 4
 },
 "nbformat": 4,
 "nbformat_minor": 2
}
